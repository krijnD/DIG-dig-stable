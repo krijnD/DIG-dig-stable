{
 "cells": [
  {
   "cell_type": "code",
   "execution_count": 1,
   "metadata": {
    "collapsed": true
   },
   "outputs": [
    {
     "name": "stderr",
     "output_type": "stream",
     "text": [
      "/data/shurui.gui/anaconda3/envs/torch_110/lib/python3.8/site-packages/tqdm/auto.py:22: TqdmWarning: IProgress not found. Please update jupyter and ipywidgets. See https://ipywidgets.readthedocs.io/en/stable/user_install.html\n",
      "  from .autonotebook import tqdm as notebook_tqdm\n"
     ]
    }
   ],
   "source": [
    "from dig.oodgraph import GOODCBAS, GOODCMNIST, GOODCora, GOODHIV, GOODMotif, GOODPCBA, GOODZINC, GOODArxiv"
   ]
  },
  {
   "cell_type": "code",
   "execution_count": 3,
   "outputs": [
    {
     "name": "stderr",
     "output_type": "stream",
     "text": [
      "Downloading...\n",
      "From: https://drive.google.com/uc?id=1yQ4uACTPA1VfLqTzusXW2nCmei16Oy-w\n",
      "To: /data/shurui.gui/Projects/divelab/datasets/GOODCMNIST.zip\n",
      "100%|████████████████████████████████████████████████████| 362M/362M [00:04<00:00, 76.2MB/s]\n",
      "Extracting datasets/GOODCMNIST.zip\n",
      "Downloading...\n",
      "From: https://drive.google.com/uc?id=1VD1nGDvLBn2xpYAp12irBLkTRRZ282Qm\n",
      "To: /data/shurui.gui/Projects/divelab/datasets/GOODCora.zip\n",
      "100%|██████████████████████████████████████████████████| 22.9M/22.9M [00:00<00:00, 49.0MB/s]\n",
      "Extracting datasets/GOODCora.zip\n",
      "Downloading...\n",
      "From: https://drive.google.com/uc?id=1GNc0HUee5YQH4Vtlk8ZbDjyJBYTEyabo\n",
      "To: /data/shurui.gui/Projects/divelab/datasets/GOODHIV.zip\n",
      "100%|██████████████████████████████████████████████████| 37.5M/37.5M [00:00<00:00, 45.8MB/s]\n",
      "Extracting datasets/GOODHIV.zip\n",
      "Downloading...\n",
      "From: https://drive.google.com/uc?id=15YRuZG6wI4HF7QgrLI52POKjuObsOyvb\n",
      "To: /data/shurui.gui/Projects/divelab/datasets/GOODMotif.zip\n",
      "100%|██████████████████████████████████████████████████| 11.8M/11.8M [00:00<00:00, 34.5MB/s]\n",
      "Extracting datasets/GOODMotif.zip\n",
      "Downloading...\n",
      "From: https://drive.google.com/uc?id=1BGhI153CcJ1wuNAp7nQOhR9jGkmF-jwb\n",
      "To: /data/shurui.gui/Projects/divelab/datasets/GOODPCBA.zip\n",
      "100%|████████████████████████████████████████████████████| 437M/437M [00:05<00:00, 78.9MB/s]\n",
      "Extracting datasets/GOODPCBA.zip\n",
      "Downloading...\n",
      "From: https://drive.google.com/uc?id=1IDxJdFJXPngH1vK06jZqzTvmy865BHn2\n",
      "To: /data/shurui.gui/Projects/divelab/datasets/GOODZINC.zip\n",
      "100%|████████████████████████████████████████████████████| 206M/206M [00:02<00:00, 82.1MB/s]\n",
      "Extracting datasets/GOODZINC.zip\n",
      "Downloading...\n",
      "From: https://drive.google.com/uc?id=1-Wq7PoHTAiLsos20bLlq_xNvrV5AHSWu\n",
      "To: /data/shurui.gui/Projects/divelab/datasets/GOODArxiv.zip\n",
      "100%|████████████████████████████████████████████████████| 515M/515M [00:06<00:00, 80.1MB/s]\n",
      "Extracting datasets/GOODArxiv.zip\n"
     ]
    }
   ],
   "source": [
    "good_hiv, meta_hiv = GOODHIV.load('datasets', 'scaffold', shift='covariate')\n",
    "good_pcba, meta_pcba = GOODPCBA.load('datasets', 'size', shift='covariate')\n",
    "good_zinc, meta_zinc = GOODZINC.load('datasets', 'scaffold', shift='concept')\n",
    "good_cmnist, meta_cmnist = GOODCMNIST.load('datasets', 'color', shift='covariate')\n",
    "good_motif, meta_motif = GOODMotif.load('datasets', 'basis', shift='covariate')\n",
    "good_cora, meta_cora = GOODCora.load('datasets', 'word', shift='concept')\n",
    "good_arxiv, meta_arxiv = GOODArxiv.load('datasets', 'time', shift='covariate')\n",
    "good_cbas, meta_cbas = GOODCBAS.load(dataset_root='datasets', domain='color', shift='no_shift')"
   ],
   "metadata": {
    "collapsed": false,
    "pycharm": {
     "name": "#%%\n"
    }
   }
  },
  {
   "cell_type": "code",
   "execution_count": 15,
   "outputs": [
    {
     "name": "stdout",
     "output_type": "stream",
     "text": [
      "GOODCBAS()\n",
      "GOODCMNIST(42000)\n",
      "GOODCora()\n",
      "GOODHIV(24682)\n",
      "GOODMotif(18000)\n",
      "GOODPCBA(269990)\n",
      "GOODZINC(101867)\n",
      "GOODArxiv()\n"
     ]
    }
   ],
   "source": [
    "print(good_hiv['train'])\n",
    "print(good_pcba['train'])\n",
    "print(good_zinc['train'])\n",
    "print(good_cmnist['train'])\n",
    "print(good_motif['train'])\n",
    "print(good_cora)\n",
    "print(good_arxiv)\n",
    "print(good_cbas)"
   ],
   "metadata": {
    "collapsed": false,
    "pycharm": {
     "name": "#%%\n"
    }
   }
  }
 ],
 "metadata": {
  "kernelspec": {
   "display_name": "Python 3",
   "language": "python",
   "name": "python3"
  },
  "language_info": {
   "codemirror_mode": {
    "name": "ipython",
    "version": 2
   },
   "file_extension": ".py",
   "mimetype": "text/x-python",
   "name": "python",
   "nbconvert_exporter": "python",
   "pygments_lexer": "ipython2",
   "version": "2.7.6"
  }
 },
 "nbformat": 4,
 "nbformat_minor": 0
}
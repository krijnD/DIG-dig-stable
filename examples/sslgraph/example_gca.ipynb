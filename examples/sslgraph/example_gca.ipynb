{
 "cells": [
  {
   "cell_type": "markdown",
   "metadata": {},
   "source": [
    "## Example of GCA"
   ]
  },
  {
   "cell_type": "markdown",
   "metadata": {},
   "source": [
    "### Node-level representation learning on Amazon Photos"
   ]
  },
  {
   "cell_type": "code",
   "execution_count": null,
   "metadata": {},
   "outputs": [],
   "source": [
    "from dig.sslgraph.utils import Encoder\n",
    "from dig.sslgraph.evaluation import NodeUnsupervised\n",
    "from dig.sslgraph.dataset import get_node_dataset\n",
    "from dig.sslgraph.method import pGRACE\n",
    "from dig.sslgraph.utils.adaptive import generate_split"
   ]
  },
  {
   "cell_type": "markdown",
   "metadata": {},
   "source": [
    "#### Loading dataset"
   ]
  },
  {
   "cell_type": "code",
   "execution_count": null,
   "metadata": {},
   "outputs": [],
   "source": [
    "from torch_geometric.datasets import Planetoid, CitationFull, WikiCS, Coauthor, Amazon\n",
    "import torch_geometric.transforms as T\n",
    "import torch\n",
    "path = './dig-experiments/'\n",
    "dataset = Amazon(root=path, name='Photo', transform=T.NormalizeFeatures())\n",
    "device = torch.device('cuda') if torch.cuda.is_available() else torch.device('cpu')\n",
    "data = dataset[0].to(device=device)"
   ]
  },
  {
   "cell_type": "code",
   "execution_count": null,
   "metadata": {},
   "outputs": [],
   "source": [
    "split = generate_split(data.num_nodes, train_ratio = 0.1, val_ratio = 0.1)"
   ]
  },
  {
   "cell_type": "markdown",
   "metadata": {},
   "source": [
    "#### Define encoders and contrastive model\n",
    "##### You can refer to [https://github.com/CRIPAC-DIG/GCA/tree/main/param](https://github.com/CRIPAC-DIG/GCA/tree/main/param) for detailed training configs.\n",
    "##### ***Note***: Results in the GCA paper uses different training-test splits to the public splits, due to which you may see slightly different results in DIG and the original implementation of GCA."
   ]
  },
  {
   "cell_type": "code",
   "execution_count": null,
   "metadata": {},
   "outputs": [],
   "source": [
    "embed_dim = 256\n",
    "encoder = Encoder(feat_dim=dataset[0].x.shape[1], hidden_dim=embed_dim, \n",
    "                  n_layers=2, gnn='gcn', act='relu', node_level=True, graph_level=False).to(device)\n",
    "grace = pGRACE(dim=embed_dim, proj_n_dim=64, centrality_measure='degree', prob_edge_1 = 0.3, prob_edge_2 = 0.5, prob_feature_1 = 0.1, prob_feature_2 = 0.1, p_tau=0.7, tau=0.1, device=device)"
   ]
  },
  {
   "cell_type": "code",
   "execution_count": null,
   "metadata": {},
   "outputs": [],
   "source": [
    "evaluator = NodeUnsupervised(dataset, train_mask=split[0], test_mask = split[1], val_mask = split[2], device=device, log_interval=100)\n",
    "evaluator.setup_train_config(p_lr=0.1, p_epoch=2000, p_weight_decay=1e-5, comp_embed_on='cuda:0')\n",
    "evaluator.evaluate(learning_model=grace, encoder=encoder)"
   ]
  }
 ],
 "metadata": {
  "kernelspec": {
   "display_name": "Python 3.8.13 ('conda_dig')",
   "language": "python",
   "name": "python3"
  },
  "language_info": {
   "name": "python",
   "version": "3.8.13"
  },
  "orig_nbformat": 4,
  "vscode": {
   "interpreter": {
    "hash": "287e285d36db08a84cad79180266032424df1a55e37abc22f5a423ae3f92a42d"
   }
  }
 },
 "nbformat": 4,
 "nbformat_minor": 2
}

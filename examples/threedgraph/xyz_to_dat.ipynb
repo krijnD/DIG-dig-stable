{
 "cells": [
  {
   "cell_type": "code",
   "execution_count": 1,
   "metadata": {},
   "outputs": [],
   "source": [
    "import torch\n",
    "from torch_sparse import SparseTensor"
   ]
  },
  {
   "cell_type": "code",
   "execution_count": 2,
   "metadata": {},
   "outputs": [],
   "source": [
    "edge_index = torch.tensor([[1, 0, 2, 1, 3, 2],[0, 1, 1, 2, 2, 3]])\n",
    "pos = torch.tensor([[0,0,0],[1,1,0],[2,0,0],[3,1,0]])\n",
    "num_nodes = 4"
   ]
  },
  {
   "cell_type": "code",
   "execution_count": 3,
   "metadata": {},
   "outputs": [],
   "source": [
    "j, i = edge_index  # j->i\n",
    "\n",
    "# Calculate distances. # number of edges\n",
    "dist = (pos[i] - pos[j]).pow(2).sum(dim=-1).sqrt()\n",
    "\n",
    "value = torch.arange(j.size(0), device=j.device)\n",
    "adj_t = SparseTensor(row=i, col=j, value=value, sparse_sizes=(num_nodes, num_nodes))\n",
    "adj_t_row = adj_t[j]\n",
    "num_triplets = adj_t_row.set_value(None).sum(dim=1).to(torch.long)"
   ]
  },
  {
   "cell_type": "code",
   "execution_count": 4,
   "metadata": {},
   "outputs": [
    {
     "data": {
      "text/plain": [
       "SparseTensor(row=tensor([0, 1, 1, 2, 2, 3]),\n",
       "             col=tensor([1, 0, 2, 1, 3, 2]),\n",
       "             val=tensor([0, 1, 2, 3, 4, 5]),\n",
       "             size=(4, 4), nnz=6, density=37.50%)"
      ]
     },
     "execution_count": 4,
     "metadata": {},
     "output_type": "execute_result"
    }
   ],
   "source": [
    "adj_t # adjacency matrix (sparse)"
   ]
  },
  {
   "cell_type": "code",
   "execution_count": 5,
   "metadata": {},
   "outputs": [
    {
     "data": {
      "text/plain": [
       "SparseTensor(row=tensor([0, 0, 1, 2, 2, 3, 3, 4, 5, 5]),\n",
       "             col=tensor([0, 2, 1, 1, 3, 0, 2, 2, 1, 3]),\n",
       "             val=tensor([1, 2, 0, 3, 4, 1, 2, 5, 3, 4]),\n",
       "             size=(6, 4), nnz=10, density=41.67%)"
      ]
     },
     "execution_count": 5,
     "metadata": {},
     "output_type": "execute_result"
    }
   ],
   "source": [
    "adj_t[j] # matrix size (6, 4), finding neighbors for each edge, this means finding all triplet nodes k -> j -> i, k can be the same node as i"
   ]
  },
  {
   "cell_type": "code",
   "execution_count": 6,
   "metadata": {},
   "outputs": [
    {
     "data": {
      "text/plain": [
       "tensor([2, 1, 2, 2, 1, 2])"
      ]
     },
     "execution_count": 6,
     "metadata": {},
     "output_type": "execute_result"
    }
   ],
   "source": [
    "num_triplets # number of neighbors for each edge"
   ]
  }
 ],
 "metadata": {
  "kernelspec": {
   "display_name": "latest",
   "language": "python",
   "name": "python3"
  },
  "language_info": {
   "codemirror_mode": {
    "name": "ipython",
    "version": 3
   },
   "file_extension": ".py",
   "mimetype": "text/x-python",
   "name": "python",
   "nbconvert_exporter": "python",
   "pygments_lexer": "ipython3",
   "version": "3.8.13"
  },
  "orig_nbformat": 4,
  "vscode": {
   "interpreter": {
    "hash": "ed4151d0c1398972f6153a72073077d2a2f9d24d7cb529860653e16784150c95"
   }
  }
 },
 "nbformat": 4,
 "nbformat_minor": 2
}

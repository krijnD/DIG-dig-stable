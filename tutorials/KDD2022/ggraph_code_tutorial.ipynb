{
 "cells": [
  {
   "cell_type": "markdown",
   "metadata": {},
   "source": [
    "# Tutorial for Graph Generation\n",
    "\n",
    "In this hand-on code tutorial, we will show how to generate graphs using our DIG library. Specifically, we show how to use the implemented GraphEBM and GraphDF methods to create molecular graph generators with deep generative models.\n",
    "\n",
    "## Graph Generation\n",
    "\n",
    "In drug discovery and chemical science, a fundamental problem is to design and synthesize novel molecules with some desirable properties (e.g. high drug-likeness). This problem remains to be very challenging, because the space of molecules is discrete and very huge. A promising solution is to construct a graph generator which can automatically generate novel molecular graphs. Recently, many approaches are proposed for molecular graph generation, such as JT-VAE, GCPN, GraphAF, GraphEBM, and GraphDF.\n",
    "\n",
    "To generate molecular graphs, we first need to decide what is generated to form a molecular graph. Generally, the following three graph formation methods are most widely used in existing molecular graph generation approaches:\n",
    "\n",
    "* Tree-based method. The tree structure of a molecule is firstly generated, where the nodes of tree represent a motif or subgraph of the molecular graph, e.g., an aromatic ring. Then, for any two connected subgraphs in the tree, the binding points between them are decided, and a molecular graph is finally formed by binding all subgraphs. An example of this method is JT-VAE.\n",
    "* One-shot method. The molecular graph is formed by explicitly generating its node type matrix and adjacency tensor. Examples of this method are GraphVAE and GraphEBM.\n",
    "* Sequential method. The molecular graph is formed step by step, where only one node or one edge is generated in each step. Examples of this method are GCPN, GraphAF and GraphDF.\n",
    "\n",
    "After the molecular graph formation method is determined, we can use any deep generative model (e.g. VAE, GAN, and flow) to construct a graph generator, in which latent variables are mapped to the generation targets by the model.\n",
    "\n",
    "In this tutorial, we will use [GraphEBM](https://arxiv.org/abs/2102.00546) and [GraphDF](https://arxiv.org/abs/2102.01189) as examples to show how to use one-shot and sequential methods in the molecular graph generation problem, separately. Specifically, we will show how to use our implemented APIs to quickly running training and generation on the ZINC250k dataset with code examples."
   ]
  },
  {
   "cell_type": "markdown",
   "metadata": {},
   "source": [
    "## GraphEBM\n",
    "\n",
    "GraphEBM is a one-shot and permutation-invariant molecular graph generation method based on energy-based models. Next, we show how to develop the pipeline of training on the ZINC250k dataset, generating molecular graphs, and evaluating the generation performance with GraphEBM."
   ]
  },
  {
   "cell_type": "code",
   "execution_count": 1,
   "metadata": {},
   "outputs": [],
   "source": [
    "import os\n",
    "import torch\n",
    "from torch_geometric.loader import DenseDataLoader\n",
    "from rdkit import RDLogger\n",
    "\n",
    "from dig.ggraph.dataset import QM9, ZINC250k\n",
    "from dig.ggraph.method import GraphEBM\n",
    "from dig.ggraph.evaluation import RandGenEvaluator\n",
    "device = torch.device('cuda:1')"
   ]
  },
  {
   "cell_type": "markdown",
   "metadata": {},
   "source": [
    "First, we set up the dataset class and loader for the ZINC250k dataset."
   ]
  },
  {
   "cell_type": "code",
   "execution_count": 2,
   "metadata": {},
   "outputs": [
    {
     "name": "stdout",
     "output_type": "stream",
     "text": [
      "making raw files: ./raw\n"
     ]
    },
    {
     "name": "stderr",
     "output_type": "stream",
     "text": [
      "Downloading https://raw.githubusercontent.com/divelab/DIG_storage/main/ggraph/zinc250k_property.csv\n"
     ]
    },
    {
     "name": "stdout",
     "output_type": "stream",
     "text": [
      "Processing...\n",
      "making processed files: ./zinc250k_property/processed_oneshot\n",
      "Done!\n"
     ]
    }
   ],
   "source": [
    "dataset = ZINC250k(one_shot=True, root='./')\n",
    "splits = dataset.get_split_idx()\n",
    "train_set = dataset[splits['train_idx']]\n",
    "train_dataloader = DenseDataLoader(train_set, batch_size=128, shuffle=True, num_workers=0)"
   ]
  },
  {
   "cell_type": "markdown",
   "metadata": {},
   "source": [
    "Next, we create the GraphEBM based molecular graph generator by defining an object `graphebm` as an instance of class `GraphEBM`, and start training the GraphEBM model on the ZINC250k dataset. The checkpoint of each epoch is saved under the folder 'checkpoints'."
   ]
  },
  {
   "cell_type": "code",
   "execution_count": 3,
   "metadata": {},
   "outputs": [],
   "source": [
    "graphebm = GraphEBM(n_atom=38, n_atom_type=10, n_edge_type=4, hidden=64, device=device)"
   ]
  },
  {
   "cell_type": "code",
   "execution_count": null,
   "metadata": {},
   "outputs": [],
   "source": [
    "graphebm.train_rand_gen(train_dataloader, lr=1e-4, wd=0, max_epochs=20, c=0, ld_step=150, ld_noise=0.005, ld_step_size=30, clamp=True, alpha=1, save_interval=1, save_dir='./checkpoints')"
   ]
  },
  {
   "cell_type": "markdown",
   "metadata": {},
   "source": [
    "When the training completes, we can use the trained generator to generate molecular graphs. The generated molecules are represented by a list of `rdkit.Chem.Mol` objects.\n",
    "\n",
    "**Skip training**: You can also download and use [our trained models](https://github.com/divelab/DIG_storage/blob/main/ggraph/GraphEBM/GraphEBM_zinc250k_uncond.pt) on the ZINC250k dataset. Note: We found that we might have an error about loading the trained models if we download them with `wget`. If you have the same error, please download the models manually."
   ]
  },
  {
   "cell_type": "code",
   "execution_count": 4,
   "metadata": {},
   "outputs": [
    {
     "name": "stdout",
     "output_type": "stream",
     "text": [
      "Loading paramaters from ./GraphEBM_zinc250k_uncond.pt\n",
      "Initializing samples...\n",
      "Generating samples...\n"
     ]
    }
   ],
   "source": [
    "### Ignore info output by RDKit\n",
    "RDLogger.DisableLog('rdApp.error') \n",
    "RDLogger.DisableLog('rdApp.warning')\n",
    "\n",
    "atomic_num_list = dataset.atom_list  # [6, 7, 8, 9, 15, 16, 17, 35, 53, 0] for ZINC250k\n",
    "gen_mols = graphebm.run_rand_gen(checkpoint_path='./GraphEBM_zinc250k_uncond.pt', n_samples=10000, c=0, ld_step=150, ld_noise=0.005, ld_step_size=30, clamp=True, atomic_num_list=atomic_num_list)"
   ]
  },
  {
   "cell_type": "markdown",
   "metadata": {},
   "source": [
    "Finally, we call the evaluator to evaluate the generated molecules by the validity ratio, the uniqueness ratio, and the novelty ratio."
   ]
  },
  {
   "cell_type": "code",
   "execution_count": 6,
   "metadata": {},
   "outputs": [
    {
     "name": "stdout",
     "output_type": "stream",
     "text": [
      "Valid Ratio: 10000/10000 = 100.00%\n",
      "Unique Ratio: 9805/10000 = 98.05%\n",
      "Novel Ratio: 10000/10000 = 100.00%\n",
      "{'valid_ratio': 100.0, 'unique_ratio': 98.05, 'novel_ratio': 100.0}\n"
     ]
    }
   ],
   "source": [
    "train_smiles = [data.smile for data in dataset[splits['train_idx']]]\n",
    "res_dict = {'mols':gen_mols, 'train_smiles': train_smiles}\n",
    "evaluator = RandGenEvaluator()\n",
    "results = evaluator.eval(res_dict)\n",
    "print(results)"
   ]
  },
  {
   "cell_type": "markdown",
   "metadata": {},
   "source": [
    "## GraphDF\n",
    "\n",
    "GraphDF is a sequential molecular graph generation methods based on discrete flow models. Next, we show how to develop the pipeline of training on the ZINC250k dataset, generating molecular graphs, and evaluating the generation performance with GraphDF."
   ]
  },
  {
   "cell_type": "markdown",
   "metadata": {},
   "source": [
    "First, we set up the dataset class and loader for the ZINC250k dataset. Note that when setting up dataset for sequential generation, the `one_shot` parameter of the `ZINC250k` class needs to be `False`."
   ]
  },
  {
   "cell_type": "code",
   "execution_count": 8,
   "metadata": {},
   "outputs": [
    {
     "name": "stdout",
     "output_type": "stream",
     "text": [
      "making raw files: zinc250k_seq/raw\n"
     ]
    },
    {
     "name": "stderr",
     "output_type": "stream",
     "text": [
      "Downloading https://raw.githubusercontent.com/divelab/DIG_storage/main/ggraph/zinc250k_property.csv\n"
     ]
    },
    {
     "name": "stdout",
     "output_type": "stream",
     "text": [
      "Processing...\n",
      "making processed files: zinc250k_seq/zinc250k_property/processed\n",
      "Done!\n"
     ]
    }
   ],
   "source": [
    "import json\n",
    "from dig.ggraph.dataset import ZINC250k\n",
    "from torch_geometric.loader import DenseDataLoader\n",
    "conf = json.load(open('../../examples/ggraph/GraphDF/config/rand_gen_zinc250k_config_dict.json'))\n",
    "dataset = ZINC250k(one_shot=False, use_aug=True, root=\"./zinc250k_seq\")\n",
    "loader = DenseDataLoader(dataset, batch_size=conf['batch_size'], shuffle=True)"
   ]
  },
  {
   "cell_type": "markdown",
   "metadata": {},
   "source": [
    "Next, we create the GraphDF based molecular graph generator by defining an object `runner` as an instance of class `GraphDF`, and start training the GraphDF model on the ZINC250k dataset. The checkpoints of each epoch is saved under the folder 'rand_gen_zinc250k'."
   ]
  },
  {
   "cell_type": "code",
   "execution_count": 9,
   "metadata": {},
   "outputs": [],
   "source": [
    "from dig.ggraph.method import GraphDF\n",
    "runner = GraphDF()\n",
    "lr = 0.001\n",
    "wd = 0\n",
    "max_epochs = 10\n",
    "save_interval = 1\n",
    "save_dir = 'rand_gen_zinc250k'\n",
    "runner.train_rand_gen(loader=loader, lr=lr, wd=wd, max_epochs=max_epochs,\n",
    "    model_conf_dict=conf['model'], save_interval=save_interval, save_dir=save_dir)"
   ]
  },
  {
   "cell_type": "markdown",
   "metadata": {},
   "source": [
    "When the training completes, we can use the trained generator to generate molecular graphs. The generated molecules are represented by a list of `rdkit.Chem.Mol` objects.\n",
    "\n",
    "**Skip training**: You can also download and use [our trained models](https://github.com/divelab/DIG_storage/blob/main/ggraph/GraphDF/saved_ckpts/rand_gen/rand_gen_zinc250k.pth) on the ZINC250k dataset."
   ]
  },
  {
   "cell_type": "code",
   "execution_count": 10,
   "metadata": {},
   "outputs": [],
   "source": [
    "from rdkit import RDLogger\n",
    "RDLogger.DisableLog('rdApp.*')\n",
    "ckpt_path = './rand_gen_zinc250k.pth'\n",
    "n_mols = 1000\n",
    "mols, pure_valids = runner.run_rand_gen(model_conf_dict=conf['model'], checkpoint_path=ckpt_path,\n",
    "    n_mols=n_mols, atomic_num_list=conf['atom_list'])"
   ]
  },
  {
   "cell_type": "markdown",
   "metadata": {},
   "source": [
    "Finally, we call the evaluator to evaluate the generated molecules by the validity ratio, the uniqueness ratio, and the novelty ratio. Since the bond valency check is used in the sequential generation process of GraphDF, we use the validity ratio without valency check as an additional evaluation metric."
   ]
  },
  {
   "cell_type": "code",
   "execution_count": 11,
   "metadata": {},
   "outputs": [
    {
     "name": "stdout",
     "output_type": "stream",
     "text": [
      "Valid Ratio: 10000/10000 = 100.00%\n",
      "Unique Ratio: 9805/10000 = 99.86%\n",
      "Novel Ratio: 10000/10000 = 100.00%\n",
      "Valid Ratio without valency check: 89.54%\n",
      "{'valid_ratio': 100.0, 'unique_ratio': 98.05, 'novel_ratio': 100.0}\n"
     ]
    }
   ],
   "source": [
    "from dig.ggraph.evaluation import RandGenEvaluator\n",
    "evaluator = RandGenEvaluator()\n",
    "smiles = [data.smile for data in dataset]\n",
    "input_dict = {'mols': mols, 'train_smiles': smiles}\n",
    "results = evaluator.eval(input_dict)\n",
    "print(\"Valid Ratio without valency check: {:.2f}%\".format(sum(pure_valids) / n_mols * 100))\n",
    "print(results)"
   ]
  }
 ],
 "metadata": {
  "kernelspec": {
   "display_name": "Python 3.7.13 ('pyg2')",
   "language": "python",
   "name": "python3"
  },
  "language_info": {
   "codemirror_mode": {
    "name": "ipython",
    "version": 3
   },
   "file_extension": ".py",
   "mimetype": "text/x-python",
   "name": "python",
   "nbconvert_exporter": "python",
   "pygments_lexer": "ipython3",
   "version": "3.7.13"
  },
  "orig_nbformat": 4,
  "vscode": {
   "interpreter": {
    "hash": "127a86c1167e14c5e2561083d0493c6ec26b99d3d97604c58243ab2ac10271a6"
   }
  }
 },
 "nbformat": 4,
 "nbformat_minor": 2
}
